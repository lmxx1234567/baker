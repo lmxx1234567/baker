{
 "metadata": {
  "language_info": {
   "codemirror_mode": {
    "name": "ipython",
    "version": 3
   },
   "file_extension": ".py",
   "mimetype": "text/x-python",
   "name": "python",
   "nbconvert_exporter": "python",
   "pygments_lexer": "ipython3",
   "version": "3.8.5-final"
  },
  "orig_nbformat": 2,
  "kernelspec": {
   "name": "python38564bitvenv46bf528cf5bf4e42b44c77089eceb717",
   "display_name": "Python 3.8.5 64-bit ('venv')",
   "language": "python"
  }
 },
 "nbformat": 4,
 "nbformat_minor": 2,
 "cells": [
  {
   "cell_type": "code",
   "execution_count": 1,
   "metadata": {},
   "outputs": [],
   "source": [
    "import tensorflow as tf\n",
    "import tensorflow_hub as hub\n",
    "import tensorflow_text as text"
   ]
  },
  {
   "cell_type": "code",
   "execution_count": 2,
   "metadata": {},
   "outputs": [],
   "source": [
    "gpus = tf.config.experimental.list_physical_devices('GPU')\n",
    "if gpus:\n",
    "    try:\n",
    "        for gpu in gpus:\n",
    "            tf.config.experimental.set_memory_growth(gpu, True)\n",
    "\n",
    "    except RuntimeError as e:\n",
    "        print(e)"
   ]
  },
  {
   "cell_type": "code",
   "execution_count": 10,
   "metadata": {},
   "outputs": [
    {
     "output_type": "stream",
     "name": "stdout",
     "text": [
      "WARNING:tensorflow:5 out of the last 5 calls to <function recreate_function.<locals>.restored_function_body at 0x7f9ee1c4e160> triggered tf.function retracing. Tracing is expensive and the excessive number of tracings could be due to (1) creating @tf.function repeatedly in a loop, (2) passing tensors with different shapes, (3) passing Python objects instead of tensors. For (1), please define your @tf.function outside of the loop. For (2), @tf.function has experimental_relax_shapes=True option that relaxes argument shapes that can avoid unnecessary retracing. For (3), please refer to https://www.tensorflow.org/guide/function#controlling_retracing and https://www.tensorflow.org/api_docs/python/tf/function for  more details.\n",
      "WARNING:tensorflow:5 out of the last 5 calls to <function recreate_function.<locals>.restored_function_body at 0x7f9ee1c4e160> triggered tf.function retracing. Tracing is expensive and the excessive number of tracings could be due to (1) creating @tf.function repeatedly in a loop, (2) passing tensors with different shapes, (3) passing Python objects instead of tensors. For (1), please define your @tf.function outside of the loop. For (2), @tf.function has experimental_relax_shapes=True option that relaxes argument shapes that can avoid unnecessary retracing. For (3), please refer to https://www.tensorflow.org/guide/function#controlling_retracing and https://www.tensorflow.org/api_docs/python/tf/function for  more details.\n",
      "WARNING:tensorflow:6 out of the last 6 calls to <function recreate_function.<locals>.restored_function_body at 0x7f9ee1c4e700> triggered tf.function retracing. Tracing is expensive and the excessive number of tracings could be due to (1) creating @tf.function repeatedly in a loop, (2) passing tensors with different shapes, (3) passing Python objects instead of tensors. For (1), please define your @tf.function outside of the loop. For (2), @tf.function has experimental_relax_shapes=True option that relaxes argument shapes that can avoid unnecessary retracing. For (3), please refer to https://www.tensorflow.org/guide/function#controlling_retracing and https://www.tensorflow.org/api_docs/python/tf/function for  more details.\n",
      "WARNING:tensorflow:6 out of the last 6 calls to <function recreate_function.<locals>.restored_function_body at 0x7f9ee1c4e700> triggered tf.function retracing. Tracing is expensive and the excessive number of tracings could be due to (1) creating @tf.function repeatedly in a loop, (2) passing tensors with different shapes, (3) passing Python objects instead of tensors. For (1), please define your @tf.function outside of the loop. For (2), @tf.function has experimental_relax_shapes=True option that relaxes argument shapes that can avoid unnecessary retracing. For (3), please refer to https://www.tensorflow.org/guide/function#controlling_retracing and https://www.tensorflow.org/api_docs/python/tf/function for  more details.\n",
      "WARNING:tensorflow:7 out of the last 7 calls to <function recreate_function.<locals>.restored_function_body at 0x7f9ee1c4eca0> triggered tf.function retracing. Tracing is expensive and the excessive number of tracings could be due to (1) creating @tf.function repeatedly in a loop, (2) passing tensors with different shapes, (3) passing Python objects instead of tensors. For (1), please define your @tf.function outside of the loop. For (2), @tf.function has experimental_relax_shapes=True option that relaxes argument shapes that can avoid unnecessary retracing. For (3), please refer to https://www.tensorflow.org/guide/function#controlling_retracing and https://www.tensorflow.org/api_docs/python/tf/function for  more details.\n",
      "WARNING:tensorflow:7 out of the last 7 calls to <function recreate_function.<locals>.restored_function_body at 0x7f9ee1c4eca0> triggered tf.function retracing. Tracing is expensive and the excessive number of tracings could be due to (1) creating @tf.function repeatedly in a loop, (2) passing tensors with different shapes, (3) passing Python objects instead of tensors. For (1), please define your @tf.function outside of the loop. For (2), @tf.function has experimental_relax_shapes=True option that relaxes argument shapes that can avoid unnecessary retracing. For (3), please refer to https://www.tensorflow.org/guide/function#controlling_retracing and https://www.tensorflow.org/api_docs/python/tf/function for  more details.\n",
      "WARNING:tensorflow:Unresolved object in checkpoint: (root).layer-1._vocab_table._initializer\n",
      "WARNING:tensorflow:Unresolved object in checkpoint: (root).layer-1._vocab_table._initializer\n",
      "WARNING:tensorflow:Unresolved object in checkpoint: (root).layer-1._vocab_table._initializer._filename\n",
      "WARNING:tensorflow:Unresolved object in checkpoint: (root).layer-1._vocab_table._initializer._filename\n",
      "WARNING:tensorflow:A checkpoint was restored (e.g. tf.train.Checkpoint.restore or tf.keras.Model.load_weights) but not all checkpointed values were used. See above for specific issues. Use expect_partial() on the load status object, e.g. tf.train.Checkpoint.restore(...).expect_partial(), to silence these warnings, or use assert_consumed() to make the check explicit. See https://www.tensorflow.org/guide/checkpoint#loading_mechanics for details.\n",
      "WARNING:tensorflow:A checkpoint was restored (e.g. tf.train.Checkpoint.restore or tf.keras.Model.load_weights) but not all checkpointed values were used. See above for specific issues. Use expect_partial() on the load status object, e.g. tf.train.Checkpoint.restore(...).expect_partial(), to silence these warnings, or use assert_consumed() to make the check explicit. See https://www.tensorflow.org/guide/checkpoint#loading_mechanics for details.\n"
     ]
    },
    {
     "output_type": "execute_result",
     "data": {
      "text/plain": [
       "<tensorflow.python.saved_model.load.Loader._recreate_base_user_object.<locals>._UserObject at 0x7f9924750bb0>"
      ]
     },
     "metadata": {},
     "execution_count": 10
    }
   ],
   "source": [
    "tfhub_handle_preprocess = \"https://tfhub.dev/tensorflow/bert_zh_preprocess/2\"\n",
    "tfhub_handle_encoder = \"https://tfhub.dev/tensorflow/bert_zh_L-12_H-768_A-12/3\"\n",
    "hub.load(tfhub_handle_preprocess)\n",
    "hub.load(tfhub_handle_encoder)"
   ]
  },
  {
   "cell_type": "code",
   "execution_count": 3,
   "metadata": {},
   "outputs": [],
   "source": [
    "batch_size = 16\n",
    "bad_dataset = tf.data.experimental.make_csv_dataset(\n",
    "    'training_sample_bad.csv',\n",
    "    batch_size=batch_size, # Artificially small to make examples easier to show.\n",
    "    column_defaults=[tf.string,tf.string,tf.float32],\n",
    "    label_name='judge',\n",
    "    num_epochs=1,\n",
    "    ignore_errors=True,)\n",
    "good_dataset = tf.data.experimental.make_csv_dataset(\n",
    "    'training_sample_good.csv',\n",
    "    batch_size=batch_size, # Artificially small to make examples easier to show.\n",
    "    column_defaults=[tf.string,tf.string,tf.float32],\n",
    "    label_name='judge',\n",
    "    num_epochs=10,\n",
    "    ignore_errors=True,)\n",
    "all_dataset = bad_dataset.concatenate(good_dataset).shuffle(100000, reshuffle_each_iteration=True)"
   ]
  },
  {
   "cell_type": "code",
   "execution_count": 4,
   "metadata": {},
   "outputs": [],
   "source": [
    "def split_dataset(dataset: tf.data.Dataset, validation_data_fraction: float):\n",
    "    \"\"\"\n",
    "    Splits a dataset of type tf.data.Dataset into a training and validation dataset using given ratio. Fractions are\n",
    "    rounded up to two decimal places.\n",
    "    @param dataset: the input dataset to split.\n",
    "    @param validation_data_fraction: the fraction of the validation data as a float between 0 and 1.\n",
    "    @return: a tuple of two tf.data.Datasets as (training, validation)\n",
    "    \"\"\"\n",
    "\n",
    "    validation_data_percent = round(validation_data_fraction * 100)\n",
    "    if not (0 <= validation_data_percent <= 100):\n",
    "        raise ValueError(\"validation data fraction must be ∈ [0,1]\")\n",
    "\n",
    "    dataset = dataset.enumerate()\n",
    "    train_dataset = dataset.filter(lambda f, data: f % 100 > validation_data_percent)\n",
    "    validation_dataset = dataset.filter(lambda f, data: f % 100 <= validation_data_percent)\n",
    "\n",
    "    # remove enumeration\n",
    "    train_dataset = train_dataset.map(lambda f, data: data)\n",
    "    validation_dataset = validation_dataset.map(lambda f, data: data)\n",
    "\n",
    "    return train_dataset, validation_dataset"
   ]
  },
  {
   "cell_type": "code",
   "execution_count": null,
   "metadata": {},
   "outputs": [],
   "source": [
    "for batch, label in all_dataset.take(1):\n",
    "  for key, value in batch.items():\n",
    "    print(f\"{key:20s}: {value.numpy()[0].decode()}\")\n",
    "  print()\n",
    "  print(f\"{'label':20s}: {label.numpy()[0]}\")"
   ]
  },
  {
   "cell_type": "code",
   "execution_count": 5,
   "metadata": {
    "tags": []
   },
   "outputs": [],
   "source": [
    "train_ds, val_ds = split_dataset(all_dataset, 0.2)"
   ]
  },
  {
   "source": [
    "# 自定义模型"
   ],
   "cell_type": "markdown",
   "metadata": {}
  },
  {
   "cell_type": "code",
   "execution_count": 6,
   "metadata": {},
   "outputs": [],
   "source": [
    "con_input = tf.keras.layers.Input(shape=(), dtype=tf.string, name='con_input')\n",
    "cause_input = tf.keras.layers.Input(shape=(), dtype=tf.string, name='cause_input')\n",
    "preprocessor = hub.load(tfhub_handle_preprocess)\n",
    "tokenize = hub.KerasLayer(preprocessor.tokenize, name='tokenize')\n",
    "bert_pack_inputs = hub.KerasLayer(\n",
    "    preprocessor.bert_pack_inputs,\n",
    "    arguments=dict(seq_length=512), name='bert_pack_inputs')\n",
    "tokenized_inputs = [tokenize(segment) for segment in [con_input,cause_input]]\n",
    "encoder_inputs = bert_pack_inputs(tokenized_inputs)\n",
    "encoder = hub.KerasLayer(tfhub_handle_encoder, name='BERT_encoder')\n",
    "pooled_output = encoder(encoder_inputs)['pooled_output']\n",
    "dropout = tf.keras.layers.Dropout(0.1, name='dropout')(pooled_output)\n",
    "output = tf.keras.layers.Dense(1, activation='sigmoid', name='classifier')(dropout)\n",
    "logregress_model = tf.keras.Model({'con':con_input, 'cause':cause_input}, output)"
   ]
  },
  {
   "cell_type": "code",
   "execution_count": 7,
   "metadata": {},
   "outputs": [
    {
     "output_type": "execute_result",
     "data": {
      "image/png": "[encoded data removed]",
      "text/plain": [
       "<IPython.core.display.Image object>"
      ]
     },
     "metadata": {},
     "execution_count": 7
    }
   ],
   "source": [
    "tf.keras.utils.plot_model(logregress_model)"
   ]
  },
  {
   "cell_type": "code",
   "execution_count": 8,
   "metadata": {},
   "outputs": [
    {
     "output_type": "stream",
     "name": "stdout",
     "text": [
      "Model: \"model\"\n__________________________________________________________________________________________________\nLayer (type)                    Output Shape         Param #     Connected to                     \n==================================================================================================\ncon_input (InputLayer)          [(None,)]            0                                            \n__________________________________________________________________________________________________\ncause_input (InputLayer)        [(None,)]            0                                            \n__________________________________________________________________________________________________\ntokenize (KerasLayer)           (None, None, None)   0           con_input[0][0]                  \n                                                                 cause_input[0][0]                \n__________________________________________________________________________________________________\nbert_pack_inputs (KerasLayer)   {'input_mask': (None 0           tokenize[0][0]                   \n                                                                 tokenize[1][0]                   \n__________________________________________________________________________________________________\nBERT_encoder (KerasLayer)       {'pooled_output': (N 102267649   bert_pack_inputs[0][0]           \n                                                                 bert_pack_inputs[0][1]           \n                                                                 bert_pack_inputs[0][2]           \n__________________________________________________________________________________________________\ndropout (Dropout)               (None, 768)          0           BERT_encoder[0][13]              \n__________________________________________________________________________________________________\nclassifier (Dense)              (None, 1)            769         dropout[0][0]                    \n==================================================================================================\nTotal params: 102,268,418\nTrainable params: 769\nNon-trainable params: 102,267,649\n__________________________________________________________________________________________________\n"
     ]
    }
   ],
   "source": [
    "logregress_model.summary()"
   ]
  },
  {
   "cell_type": "code",
   "execution_count": 9,
   "metadata": {},
   "outputs": [],
   "source": [
    "encoder.trainable = True"
   ]
  },
  {
   "source": [
    "# 加载Savedmodel\n",
    "> 目前 tf2.3 2.4有bug，需要拷贝 assert 到 tmp 目录\n",
    "> \n",
    "> 执行 `cp -r ./seq_match_bert/assets/ /tmp/tfhub_modules/ac88b3f8006a88375d21bd4422db821cabe4b7c3`"
   ],
   "cell_type": "markdown",
   "metadata": {}
  },
  {
   "cell_type": "code",
   "execution_count": 13,
   "metadata": {},
   "outputs": [
    {
     "output_type": "stream",
     "name": "stdout",
     "text": [
      "WARNING:tensorflow:11 out of the last 11 calls to <function recreate_function.<locals>.restored_function_body at 0x7f991f00c040> triggered tf.function retracing. Tracing is expensive and the excessive number of tracings could be due to (1) creating @tf.function repeatedly in a loop, (2) passing tensors with different shapes, (3) passing Python objects instead of tensors. For (1), please define your @tf.function outside of the loop. For (2), @tf.function has experimental_relax_shapes=True option that relaxes argument shapes that can avoid unnecessary retracing. For (3), please refer to https://www.tensorflow.org/guide/function#controlling_retracing and https://www.tensorflow.org/api_docs/python/tf/function for  more details.\n",
      "WARNING:tensorflow:11 out of the last 11 calls to <function recreate_function.<locals>.restored_function_body at 0x7f991f00c040> triggered tf.function retracing. Tracing is expensive and the excessive number of tracings could be due to (1) creating @tf.function repeatedly in a loop, (2) passing tensors with different shapes, (3) passing Python objects instead of tensors. For (1), please define your @tf.function outside of the loop. For (2), @tf.function has experimental_relax_shapes=True option that relaxes argument shapes that can avoid unnecessary retracing. For (3), please refer to https://www.tensorflow.org/guide/function#controlling_retracing and https://www.tensorflow.org/api_docs/python/tf/function for  more details.\n",
      "WARNING:tensorflow:11 out of the last 11 calls to <function recreate_function.<locals>.restored_function_body at 0x7f991992b160> triggered tf.function retracing. Tracing is expensive and the excessive number of tracings could be due to (1) creating @tf.function repeatedly in a loop, (2) passing tensors with different shapes, (3) passing Python objects instead of tensors. For (1), please define your @tf.function outside of the loop. For (2), @tf.function has experimental_relax_shapes=True option that relaxes argument shapes that can avoid unnecessary retracing. For (3), please refer to https://www.tensorflow.org/guide/function#controlling_retracing and https://www.tensorflow.org/api_docs/python/tf/function for  more details.\n",
      "WARNING:tensorflow:11 out of the last 11 calls to <function recreate_function.<locals>.restored_function_body at 0x7f991992b160> triggered tf.function retracing. Tracing is expensive and the excessive number of tracings could be due to (1) creating @tf.function repeatedly in a loop, (2) passing tensors with different shapes, (3) passing Python objects instead of tensors. For (1), please define your @tf.function outside of the loop. For (2), @tf.function has experimental_relax_shapes=True option that relaxes argument shapes that can avoid unnecessary retracing. For (3), please refer to https://www.tensorflow.org/guide/function#controlling_retracing and https://www.tensorflow.org/api_docs/python/tf/function for  more details.\n",
      "WARNING:tensorflow:11 out of the last 11 calls to <function recreate_function.<locals>.restored_function_body at 0x7f99199245e0> triggered tf.function retracing. Tracing is expensive and the excessive number of tracings could be due to (1) creating @tf.function repeatedly in a loop, (2) passing tensors with different shapes, (3) passing Python objects instead of tensors. For (1), please define your @tf.function outside of the loop. For (2), @tf.function has experimental_relax_shapes=True option that relaxes argument shapes that can avoid unnecessary retracing. For (3), please refer to https://www.tensorflow.org/guide/function#controlling_retracing and https://www.tensorflow.org/api_docs/python/tf/function for  more details.\n",
      "WARNING:tensorflow:11 out of the last 11 calls to <function recreate_function.<locals>.restored_function_body at 0x7f99199245e0> triggered tf.function retracing. Tracing is expensive and the excessive number of tracings could be due to (1) creating @tf.function repeatedly in a loop, (2) passing tensors with different shapes, (3) passing Python objects instead of tensors. For (1), please define your @tf.function outside of the loop. For (2), @tf.function has experimental_relax_shapes=True option that relaxes argument shapes that can avoid unnecessary retracing. For (3), please refer to https://www.tensorflow.org/guide/function#controlling_retracing and https://www.tensorflow.org/api_docs/python/tf/function for  more details.\n",
      "WARNING:tensorflow:No training configuration found in save file, so the model was *not* compiled. Compile it manually.\n",
      "WARNING:tensorflow:No training configuration found in save file, so the model was *not* compiled. Compile it manually.\n"
     ]
    }
   ],
   "source": [
    "logregress_model = tf.keras.models.load_model('./seq_match_bert')"
   ]
  },
  {
   "source": [
    "# 优化器 损失函数 & 指标"
   ],
   "cell_type": "markdown",
   "metadata": {}
  },
  {
   "cell_type": "code",
   "execution_count": 19,
   "metadata": {},
   "outputs": [],
   "source": [
    "loss = tf.keras.losses.BinaryCrossentropy()\n",
    "metrics = [tf.metrics.BinaryAccuracy(),\n",
    "           tf.keras.metrics.Precision(name='precision'),\n",
    "           tf.keras.metrics.Recall(name='recall')]"
   ]
  },
  {
   "cell_type": "code",
   "execution_count": 15,
   "metadata": {},
   "outputs": [],
   "source": [
    "from official.nlp import optimization  # to create AdamW optmizer"
   ]
  },
  {
   "cell_type": "code",
   "execution_count": 16,
   "metadata": {},
   "outputs": [],
   "source": [
    "epochs = 5\n",
    "steps_per_epoch = 0\n",
    "for data in train_ds:\n",
    "    steps_per_epoch+=1\n",
    "num_train_steps = steps_per_epoch * epochs\n",
    "num_warmup_steps = int(0.1*num_train_steps)\n",
    "\n",
    "init_lr = 1e-5\n",
    "optimizer = optimization.create_optimizer(init_lr=init_lr,\n",
    "                                          num_train_steps=num_train_steps,\n",
    "                                          num_warmup_steps=num_warmup_steps,\n",
    "                                          optimizer_type='adamw')"
   ]
  },
  {
   "cell_type": "code",
   "execution_count": 20,
   "metadata": {},
   "outputs": [],
   "source": [
    "logregress_model.compile(optimizer=optimizer,\n",
    "                         loss=loss,\n",
    "                         metrics=metrics)"
   ]
  },
  {
   "source": [
    "# Training"
   ],
   "cell_type": "markdown",
   "metadata": {}
  },
  {
   "cell_type": "code",
   "execution_count": 21,
   "metadata": {},
   "outputs": [
    {
     "output_type": "stream",
     "name": "stdout",
     "text": [
      "Epoch 1/5\n",
      "WARNING:tensorflow:11 out of the last 11 calls to <function recreate_function.<locals>.restored_function_body at 0x7f9ee01bddc0> triggered tf.function retracing. Tracing is expensive and the excessive number of tracings could be due to (1) creating @tf.function repeatedly in a loop, (2) passing tensors with different shapes, (3) passing Python objects instead of tensors. For (1), please define your @tf.function outside of the loop. For (2), @tf.function has experimental_relax_shapes=True option that relaxes argument shapes that can avoid unnecessary retracing. For (3), please refer to https://www.tensorflow.org/guide/function#controlling_retracing and https://www.tensorflow.org/api_docs/python/tf/function for  more details.\n",
      "WARNING:tensorflow:11 out of the last 11 calls to <function recreate_function.<locals>.restored_function_body at 0x7f9ee01bddc0> triggered tf.function retracing. Tracing is expensive and the excessive number of tracings could be due to (1) creating @tf.function repeatedly in a loop, (2) passing tensors with different shapes, (3) passing Python objects instead of tensors. For (1), please define your @tf.function outside of the loop. For (2), @tf.function has experimental_relax_shapes=True option that relaxes argument shapes that can avoid unnecessary retracing. For (3), please refer to https://www.tensorflow.org/guide/function#controlling_retracing and https://www.tensorflow.org/api_docs/python/tf/function for  more details.\n",
      "6123/6123 [==============================] - 3078s 502ms/step - loss: 0.0884 - binary_accuracy: 0.9790 - precision: 0.9569 - recall: 0.9907 - val_loss: 0.0475 - val_binary_accuracy: 0.9894 - val_precision: 0.9774 - val_recall: 0.9958\n",
      "Epoch 2/5\n",
      "  54/6123 [..............................] - ETA: 46:28 - loss: 0.0823 - binary_accuracy: 0.9821 - precision: 0.9526 - recall: 0.9931"
     ]
    },
    {
     "output_type": "error",
     "ename": "KeyboardInterrupt",
     "evalue": "",
     "traceback": [
      "\u001b[0;31m---------------------------------------------------------------------------\u001b[0m",
      "\u001b[0;31mKeyboardInterrupt\u001b[0m                         Traceback (most recent call last)",
      "\u001b[0;32m<ipython-input-21-3d91706c0d9c>\u001b[0m in \u001b[0;36m<module>\u001b[0;34m\u001b[0m\n\u001b[0;32m----> 1\u001b[0;31m \u001b[0mlogregress_model\u001b[0m\u001b[0;34m.\u001b[0m\u001b[0mfit\u001b[0m\u001b[0;34m(\u001b[0m\u001b[0mx\u001b[0m\u001b[0;34m=\u001b[0m\u001b[0mtrain_ds\u001b[0m\u001b[0;34m,\u001b[0m\u001b[0mvalidation_data\u001b[0m\u001b[0;34m=\u001b[0m\u001b[0mval_ds\u001b[0m\u001b[0;34m,\u001b[0m\u001b[0mepochs\u001b[0m\u001b[0;34m=\u001b[0m\u001b[0;36m5\u001b[0m\u001b[0;34m)\u001b[0m\u001b[0;34m\u001b[0m\u001b[0;34m\u001b[0m\u001b[0m\n\u001b[0m",
      "\u001b[0;32m~/Programming/playground/venv/lib/python3.8/site-packages/tensorflow/python/keras/engine/training.py\u001b[0m in \u001b[0;36mfit\u001b[0;34m(self, x, y, batch_size, epochs, verbose, callbacks, validation_split, validation_data, shuffle, class_weight, sample_weight, initial_epoch, steps_per_epoch, validation_steps, validation_batch_size, validation_freq, max_queue_size, workers, use_multiprocessing)\u001b[0m\n\u001b[1;32m   1098\u001b[0m                 _r=1):\n\u001b[1;32m   1099\u001b[0m               \u001b[0mcallbacks\u001b[0m\u001b[0;34m.\u001b[0m\u001b[0mon_train_batch_begin\u001b[0m\u001b[0;34m(\u001b[0m\u001b[0mstep\u001b[0m\u001b[0;34m)\u001b[0m\u001b[0;34m\u001b[0m\u001b[0;34m\u001b[0m\u001b[0m\n\u001b[0;32m-> 1100\u001b[0;31m               \u001b[0mtmp_logs\u001b[0m \u001b[0;34m=\u001b[0m \u001b[0mself\u001b[0m\u001b[0;34m.\u001b[0m\u001b[0mtrain_function\u001b[0m\u001b[0;34m(\u001b[0m\u001b[0miterator\u001b[0m\u001b[0;34m)\u001b[0m\u001b[0;34m\u001b[0m\u001b[0;34m\u001b[0m\u001b[0m\n\u001b[0m\u001b[1;32m   1101\u001b[0m               \u001b[0;32mif\u001b[0m \u001b[0mdata_handler\u001b[0m\u001b[0;34m.\u001b[0m\u001b[0mshould_sync\u001b[0m\u001b[0;34m:\u001b[0m\u001b[0;34m\u001b[0m\u001b[0;34m\u001b[0m\u001b[0m\n\u001b[1;32m   1102\u001b[0m                 \u001b[0mcontext\u001b[0m\u001b[0;34m.\u001b[0m\u001b[0masync_wait\u001b[0m\u001b[0;34m(\u001b[0m\u001b[0;34m)\u001b[0m\u001b[0;34m\u001b[0m\u001b[0;34m\u001b[0m\u001b[0m\n",
      "\u001b[0;32m~/Programming/playground/venv/lib/python3.8/site-packages/tensorflow/python/eager/def_function.py\u001b[0m in \u001b[0;36m__call__\u001b[0;34m(self, *args, **kwds)\u001b[0m\n\u001b[1;32m    826\u001b[0m     \u001b[0mtracing_count\u001b[0m \u001b[0;34m=\u001b[0m \u001b[0mself\u001b[0m\u001b[0;34m.\u001b[0m\u001b[0mexperimental_get_tracing_count\u001b[0m\u001b[0;34m(\u001b[0m\u001b[0;34m)\u001b[0m\u001b[0;34m\u001b[0m\u001b[0;34m\u001b[0m\u001b[0m\n\u001b[1;32m    827\u001b[0m     \u001b[0;32mwith\u001b[0m \u001b[0mtrace\u001b[0m\u001b[0;34m.\u001b[0m\u001b[0mTrace\u001b[0m\u001b[0;34m(\u001b[0m\u001b[0mself\u001b[0m\u001b[0;34m.\u001b[0m\u001b[0m_name\u001b[0m\u001b[0;34m)\u001b[0m \u001b[0;32mas\u001b[0m \u001b[0mtm\u001b[0m\u001b[0;34m:\u001b[0m\u001b[0;34m\u001b[0m\u001b[0;34m\u001b[0m\u001b[0m\n\u001b[0;32m--> 828\u001b[0;31m       \u001b[0mresult\u001b[0m \u001b[0;34m=\u001b[0m \u001b[0mself\u001b[0m\u001b[0;34m.\u001b[0m\u001b[0m_call\u001b[0m\u001b[0;34m(\u001b[0m\u001b[0;34m*\u001b[0m\u001b[0margs\u001b[0m\u001b[0;34m,\u001b[0m \u001b[0;34m**\u001b[0m\u001b[0mkwds\u001b[0m\u001b[0;34m)\u001b[0m\u001b[0;34m\u001b[0m\u001b[0;34m\u001b[0m\u001b[0m\n\u001b[0m\u001b[1;32m    829\u001b[0m       \u001b[0mcompiler\u001b[0m \u001b[0;34m=\u001b[0m \u001b[0;34m\"xla\"\u001b[0m \u001b[0;32mif\u001b[0m \u001b[0mself\u001b[0m\u001b[0;34m.\u001b[0m\u001b[0m_experimental_compile\u001b[0m \u001b[0;32melse\u001b[0m \u001b[0;34m\"nonXla\"\u001b[0m\u001b[0;34m\u001b[0m\u001b[0;34m\u001b[0m\u001b[0m\n\u001b[1;32m    830\u001b[0m       \u001b[0mnew_tracing_count\u001b[0m \u001b[0;34m=\u001b[0m \u001b[0mself\u001b[0m\u001b[0;34m.\u001b[0m\u001b[0mexperimental_get_tracing_count\u001b[0m\u001b[0;34m(\u001b[0m\u001b[0;34m)\u001b[0m\u001b[0;34m\u001b[0m\u001b[0;34m\u001b[0m\u001b[0m\n",
      "\u001b[0;32m~/Programming/playground/venv/lib/python3.8/site-packages/tensorflow/python/eager/def_function.py\u001b[0m in \u001b[0;36m_call\u001b[0;34m(self, *args, **kwds)\u001b[0m\n\u001b[1;32m    860\u001b[0m       \u001b[0;31m# In this case we have not created variables on the first call. So we can\u001b[0m\u001b[0;34m\u001b[0m\u001b[0;34m\u001b[0m\u001b[0;34m\u001b[0m\u001b[0m\n\u001b[1;32m    861\u001b[0m       \u001b[0;31m# run the first trace but we should fail if variables are created.\u001b[0m\u001b[0;34m\u001b[0m\u001b[0;34m\u001b[0m\u001b[0;34m\u001b[0m\u001b[0m\n\u001b[0;32m--> 862\u001b[0;31m       \u001b[0mresults\u001b[0m \u001b[0;34m=\u001b[0m \u001b[0mself\u001b[0m\u001b[0;34m.\u001b[0m\u001b[0m_stateful_fn\u001b[0m\u001b[0;34m(\u001b[0m\u001b[0;34m*\u001b[0m\u001b[0margs\u001b[0m\u001b[0;34m,\u001b[0m \u001b[0;34m**\u001b[0m\u001b[0mkwds\u001b[0m\u001b[0;34m)\u001b[0m\u001b[0;34m\u001b[0m\u001b[0;34m\u001b[0m\u001b[0m\n\u001b[0m\u001b[1;32m    863\u001b[0m       \u001b[0;32mif\u001b[0m \u001b[0mself\u001b[0m\u001b[0;34m.\u001b[0m\u001b[0m_created_variables\u001b[0m\u001b[0;34m:\u001b[0m\u001b[0;34m\u001b[0m\u001b[0;34m\u001b[0m\u001b[0m\n\u001b[1;32m    864\u001b[0m         raise ValueError(\"Creating variables on a non-first call to a function\"\n",
      "\u001b[0;32m~/Programming/playground/venv/lib/python3.8/site-packages/tensorflow/python/eager/function.py\u001b[0m in \u001b[0;36m__call__\u001b[0;34m(self, *args, **kwargs)\u001b[0m\n\u001b[1;32m   2940\u001b[0m       (graph_function,\n\u001b[1;32m   2941\u001b[0m        filtered_flat_args) = self._maybe_define_function(args, kwargs)\n\u001b[0;32m-> 2942\u001b[0;31m     return graph_function._call_flat(\n\u001b[0m\u001b[1;32m   2943\u001b[0m         filtered_flat_args, captured_inputs=graph_function.captured_inputs)  # pylint: disable=protected-access\n\u001b[1;32m   2944\u001b[0m \u001b[0;34m\u001b[0m\u001b[0m\n",
      "\u001b[0;32m~/Programming/playground/venv/lib/python3.8/site-packages/tensorflow/python/eager/function.py\u001b[0m in \u001b[0;36m_call_flat\u001b[0;34m(self, args, captured_inputs, cancellation_manager)\u001b[0m\n\u001b[1;32m   1916\u001b[0m         and executing_eagerly):\n\u001b[1;32m   1917\u001b[0m       \u001b[0;31m# No tape is watching; skip to running the function.\u001b[0m\u001b[0;34m\u001b[0m\u001b[0;34m\u001b[0m\u001b[0;34m\u001b[0m\u001b[0m\n\u001b[0;32m-> 1918\u001b[0;31m       return self._build_call_outputs(self._inference_function.call(\n\u001b[0m\u001b[1;32m   1919\u001b[0m           ctx, args, cancellation_manager=cancellation_manager))\n\u001b[1;32m   1920\u001b[0m     forward_backward = self._select_forward_and_backward_functions(\n",
      "\u001b[0;32m~/Programming/playground/venv/lib/python3.8/site-packages/tensorflow/python/eager/function.py\u001b[0m in \u001b[0;36mcall\u001b[0;34m(self, ctx, args, cancellation_manager)\u001b[0m\n\u001b[1;32m    553\u001b[0m       \u001b[0;32mwith\u001b[0m \u001b[0m_InterpolateFunctionError\u001b[0m\u001b[0;34m(\u001b[0m\u001b[0mself\u001b[0m\u001b[0;34m)\u001b[0m\u001b[0;34m:\u001b[0m\u001b[0;34m\u001b[0m\u001b[0;34m\u001b[0m\u001b[0m\n\u001b[1;32m    554\u001b[0m         \u001b[0;32mif\u001b[0m \u001b[0mcancellation_manager\u001b[0m \u001b[0;32mis\u001b[0m \u001b[0;32mNone\u001b[0m\u001b[0;34m:\u001b[0m\u001b[0;34m\u001b[0m\u001b[0;34m\u001b[0m\u001b[0m\n\u001b[0;32m--> 555\u001b[0;31m           outputs = execute.execute(\n\u001b[0m\u001b[1;32m    556\u001b[0m               \u001b[0mstr\u001b[0m\u001b[0;34m(\u001b[0m\u001b[0mself\u001b[0m\u001b[0;34m.\u001b[0m\u001b[0msignature\u001b[0m\u001b[0;34m.\u001b[0m\u001b[0mname\u001b[0m\u001b[0;34m)\u001b[0m\u001b[0;34m,\u001b[0m\u001b[0;34m\u001b[0m\u001b[0;34m\u001b[0m\u001b[0m\n\u001b[1;32m    557\u001b[0m               \u001b[0mnum_outputs\u001b[0m\u001b[0;34m=\u001b[0m\u001b[0mself\u001b[0m\u001b[0;34m.\u001b[0m\u001b[0m_num_outputs\u001b[0m\u001b[0;34m,\u001b[0m\u001b[0;34m\u001b[0m\u001b[0;34m\u001b[0m\u001b[0m\n",
      "\u001b[0;32m~/Programming/playground/venv/lib/python3.8/site-packages/tensorflow/python/eager/execute.py\u001b[0m in \u001b[0;36mquick_execute\u001b[0;34m(op_name, num_outputs, inputs, attrs, ctx, name)\u001b[0m\n\u001b[1;32m     57\u001b[0m   \u001b[0;32mtry\u001b[0m\u001b[0;34m:\u001b[0m\u001b[0;34m\u001b[0m\u001b[0;34m\u001b[0m\u001b[0m\n\u001b[1;32m     58\u001b[0m     \u001b[0mctx\u001b[0m\u001b[0;34m.\u001b[0m\u001b[0mensure_initialized\u001b[0m\u001b[0;34m(\u001b[0m\u001b[0;34m)\u001b[0m\u001b[0;34m\u001b[0m\u001b[0;34m\u001b[0m\u001b[0m\n\u001b[0;32m---> 59\u001b[0;31m     tensors = pywrap_tfe.TFE_Py_Execute(ctx._handle, device_name, op_name,\n\u001b[0m\u001b[1;32m     60\u001b[0m                                         inputs, attrs, num_outputs)\n\u001b[1;32m     61\u001b[0m   \u001b[0;32mexcept\u001b[0m \u001b[0mcore\u001b[0m\u001b[0;34m.\u001b[0m\u001b[0m_NotOkStatusException\u001b[0m \u001b[0;32mas\u001b[0m \u001b[0me\u001b[0m\u001b[0;34m:\u001b[0m\u001b[0;34m\u001b[0m\u001b[0;34m\u001b[0m\u001b[0m\n",
      "\u001b[0;31mKeyboardInterrupt\u001b[0m: "
     ]
    }
   ],
   "source": [
    "logregress_model.fit(x=train_ds,validation_data=val_ds,epochs=5)"
   ]
  },
  {
   "source": [
    "# Evaluation"
   ],
   "cell_type": "markdown",
   "metadata": {}
  },
  {
   "cell_type": "code",
   "execution_count": null,
   "metadata": {},
   "outputs": [],
   "source": [
    "logregress_model.evaluate(val_ds)"
   ]
  },
  {
   "cell_type": "code",
   "execution_count": 133,
   "metadata": {},
   "outputs": [
    {
     "output_type": "stream",
     "name": "stdout",
     "text": [
      "26:  tf.Tensor([[0.9116733]], shape=(1, 1), dtype=float32)         关于本次交通事故民事赔偿责任应如何承担的问题，本院认为：被告张旭驾驶“鲁HM355Q”轻型非载货专项作业车与受害人魏士玉驾驶的摩托车发生碰撞，造成魏士玉死亡的交通事故，业经邹城市公安局交通警察大队作出交通事故责任认定书，认定受害人魏士玉与被告张旭承担事故的同等责任。原、被告对事故责任认定书均无异议，本院予以确认。在本次交通事故中，魏士玉经抢救无效死亡，原告魏呈坤、魏王氏、王其秀、魏广安、魏丽丽、魏广营系受害人魏士玉的近亲属，具有要求被告赔偿各项经济损失的权利。被告平安财险济宁支公司作为“鲁HM355Q”轻型非载货专项作业车的保险人，亦无免赔情形，依法应当在被保险机动车交强险各分项限额范围内对原告损失先行赔偿，不足部分再按照商业保险合同约定和各自过错责任比例进行赔偿，仍有不足部分再按照《侵权责任法》和《交通事故安全法》的相关规定由侵权责任人赔偿。在本次事故中，受害人魏士玉与被告张旭承担事故同等责任，双方均有过错，应根据双方在本次事故中的过错程度，对超出交通事故强制保险责任限额范围以外的损失，由被告张旭承担50%民事赔偿责任。根据相关法律规定，机动车所有人与使用人不是同一人时，发生交通事故后属于该机动车一方责任的，由保险公司在机动车强制保险责任限额范围内予以赔偿。不足部分，由机动车使用人承担赔偿责任;机动车所有人对损害的发生有过错的，承担相应的赔偿责任。因张旭与被告济宁绿源食品有限公司未到庭参加诉讼，原告未举证证明张旭与被告济宁绿源食品有限公司之间的法律关系，应由侵权人张旭承担民事赔偿责任。被告济宁绿源食品有限公司虽系登记车主，但原告未举证证明在交通事故中有过错，不应承担民事赔偿责任。\n\n27:  tf.Tensor([[0.9849022]], shape=(1, 1), dtype=float32)         关于原告请求赔偿项目及其数额应如何确定的问题，本院认为：1.医疗费：原告向本院提交邹城市人民医院出具的门诊收费票据18张，并以门诊病历、门诊收费清单相佐证，旨在证明抢救魏士玉支出医疗费1，163.08元。经质证，被告平安财险济宁支公司对原告提供证据的真实性无异议。本院认为，被告对原告提供证据的真实性没异议，本院予以认定。根据原告提供的医疗费票据核算，医疗费1，156.1元，予以认定；2.丧葬费：原告主张按照受诉法院所在地上一年度职工月平均工资标准，以六个月总额计算，丧葬费为37，562.5元。经质证，被告平安财险济宁支公司认为，丧葬费应按照山东省在岗职工平均年工资收入69，305元标准计算6个月为34，652.5元。本院认为，根据《最高人民法院<关于审理人身损害赔偿案件适用法律若干问题的解释>》第二十七条之规定，“丧葬费按照受诉法院所在地上一年度职工月平均工资标准，以六个月总额计算。”受诉法院所在地山东省2018年度在岗职工年平均工资为75，125元，原告主张丧葬费符合法律规定，本院予以支持（计算公式：75，125元/年&divide;2=37，562.5元）；3.死亡赔偿金：原告向本院提交邹城市公安局刑事科学技术室出具的《鉴定书》1份及邹城市人民医院出具的《居民死亡医学证明（推断）书》1份和邹城市殡仪馆出具的《火化证明》1份,证明魏士玉在本次事故中死亡。提交原告魏广安和妻子张凤与山东鸿顺房地产开发有限公司签订的《济宁市商品房买卖合同》1份，魏广安、张凤名下位于鸿顺运河新城3号楼01单元6层0601号房的不动产登记证1份，济宁凯亿物业服务有限公司与济宁市任城区人民政府南张街道办事处共同出具《居住证明》1份，邹城市香城镇香杨庄村村民委员会出具的《证明》1份，魏广安和张凤结婚证1份、张凤经营的济宁市任城区泉茂酒水商行营业执照1份。上述证据旨在证明魏士玉自2015年9月份一直跟随儿子魏广安在济宁市鸿顺运河新城3号楼01单元6层0601号居住生活，平时帮助儿媳张凤经营酒水商行，负责送货，其死亡赔偿金应按照城镇居民人均可支配收入标准进行计算；根据受害人魏士玉年龄计算13年，死亡赔偿金514，137元。经质证，被告平安财险济宁支公司对原告提交的鉴定书、火化证明、死亡医学证明真实性无异议；对原告提交的购房合同、营业执照真实性无异议，但认为该证据与本案无关联性；对原告提交济宁市任城区人民政府南张街道办事处出具证明有异议，被告为证明其主张，提交该街道办事处向被告平安财险济宁支公司出具的情况说明，旨在证明该办事处对受害人魏士玉的居住情况不清楚；对原告提交本村村民委员会出具的证明不予认可，被告为证明其主张，提交保险公司在庭前对本村多位村民以及本村支部书记陈述内容摄制的视频资料，旨在证明魏士玉生前在本村居住生活。经质证，原告对被告提供的证据不认可。经审核，本院认为，被告对魏士玉因本次交通事故死亡的事实无异议，本院予以确认。原告提交济宁凯亿物业服务有限公司与济宁市任城区人民政府南张街道办事处共同出具证明没有单位主要负责人签名，不符合证据形式要件，也与被告平安财险济宁支公司提交该街道办事处出具的居住情况说明内容相矛盾，结合本案道路交通事故认定书记载事故发生的地点为邹城市香城镇张桃村村东路口处与该证明记载魏士玉居住地址相悖，本院不予采纳；原告提交的其他证据不能证明魏士玉在城镇连续居住一年以上，且其主要经济收入来源于城镇，原告主张按照山东省2018年度城镇居民人均可支配收入标准计算死亡赔偿金的诉讼主张，不予支持。根据魏士玉生前系邹城市香城镇香杨庄村村民，其死亡赔偿金应当按照山东省上一年度农村居民年平均纯收入16，297元标准计算，死亡赔偿金211，861元，（计算公式：16，297元/年X13年=211，861元）；4.被扶养人生活费：原告提交邹城市香城镇香杨庄村村民委员会出具的证明1份，旨在证明原告魏呈坤系受害人魏士玉之父，于1937年7月13日出生，魏王氏系受害人魏士玉之母，于1933年2月6日出生，两人均达75周岁以上，均需扶养5年。原告主张被扶养人生活费应按农村消费性支出标准11，270元计算，扣除其他扶养义务人魏士秀、魏士兰、魏国、魏士勇应承担的份额后，被扶养人魏呈坤、魏王氏生活费，共计22，540元。经质证，被告平安财险济宁支公司对村委会出具的证明真实性无异议，认为原告应提交被扶养人其他子女的身份情况。同时，本案受害人魏士玉已经年满67周岁不具备扶养能力，且无经济收入，原告不应再主张被扶养人生活费。经审核，本院认为，被告对原告主张被扶养人扶养年限无异议，本院予以认定；根据最高人民法院《关于审理人身损害赔偿案件适用法律若干问题的解释》第十七条第三款之规定，“受害人死亡的，赔偿义务人除应当根据抢救治疗情况赔偿本条第一款规定的相关费用外，还应当赔偿丧葬费、被扶养人生活费、死亡补偿费以及受害人亲属办理丧葬事宜支出的交通费、住宿费和误工损失等其他合理费用。”本案中，被扶养人魏呈坤、魏王氏均达75周岁以上，无固定收入，又无劳动能力，也没有其他生活来源，受害人魏士玉系魏呈坤、魏王氏夫妇之子，对魏呈坤、魏王氏有法定扶养义务，受害人魏士玉在本次事故中死亡，原告请求被告赔偿被扶养人魏呈坤、魏王氏生活费，符合法律规定，本院予以支持；原告主张被扶养人生活费按山东省上一年度农村居民消费性支出标准11，270元计算，符合法律相关规定，本院予以支持；原告魏呈坤、魏王氏的扶养期限为5年，应扣除其他扶养义务人魏士秀、魏士兰、魏国、魏士勇4人应承担的份额，被扶养人魏呈坤、魏王氏生活费，共计22，540元（计算公式：11，270元X5年X2人&divide;5人=22，540元），该被扶养人生活费不再单列判项，应计入死亡赔偿金项目之内。5.处理丧葬事宜的误工费及交通费：原告提交魏广安与内蒙古蒙牛乳业（集团）股份有限公司签订的《劳动合同》一份、魏广安工资信息1份、魏广安工资银行流水明细1份，证明原告魏广安因处理父亲魏士玉丧事向公司请事假，产生误工费1，500元；魏丽丽和魏广营的误工费按照城镇标准108.35元计算1个月，主张处理丧葬事宜的误工费8，091.5元；主张处理丧葬事实人员交通费2，000元未提交相关证据。经质证，被告平安财险济宁支公司对证据真实性无异议，该项费用应包含在丧葬费中，不应单独主张。经审核，本院认为，根据《最高人民法院<关于审理人身损害赔偿案件适用法律若干问题的解释>》第十七条之规定，受害人死亡的，赔偿义务人还应当赔偿受害人亲属办理丧葬事宜支出的误工损失等其他合理费用。结合本案实际情况，本院酌情认定处理丧葬事宜的误工费和交通费为2，000元；6.精神损害抚慰金：原告请求被告赔偿精神损害抚慰金20，000元，主张被告平安财险济宁支公司在交强险责任限额范围内先行赔偿。经质证，被告平安财险济宁支公司认为，原告主张该项数额过高。本院认为，原告亲属魏士玉因交通事故死亡，使其亲属遭受精神上极大痛苦，原告请求被告赔偿精神损害抚慰金的理由，符合法律规定，本院予以支持;赔偿精神损害抚慰金的数额，应根据侵权过错程度、侵权方式、损害后果、侵权人赔偿能力等因素综合分析，结合本案实际情况，确定被告平安财险济宁支公司赔偿原告精神损害抚慰金5，000元为宜，应在交强险限额内优先赔偿。原告请求被告赔偿精神损害抚慰金20，000元过高，超出部分本院不予支持；7、财产损失费：原告提供魏士玉驾驶的燃油助力车报废图片一张，主张财产损失费2，000元。经质证，被告平安财险济宁支公司认为，原告未提供车辆损失具体数额的相关证据，不予认可。经审核，本院认为，原告主张财产损失2，000元，因其未举证证明，本院不予支持。\n\n"
     ]
    }
   ],
   "source": [
    "x1 = [\n",
    "    ''\n",
    "]\n",
    "x2 = ['关于原告各项合理损失数额的认定']\n",
    "cons = [{\n",
    "    'con':'本次交通事故民事赔偿责任如何承担',\n",
    "    'line':25,\n",
    "},\n",
    "{\n",
    "    'con':'原告请求赔偿项目及数额应如何确定',\n",
    "    'line':25,\n",
    "}]\n",
    "\n",
    "with open('/home/cao/Programming/baker/data/raw/case2.txt') as f:\n",
    "    lines = f.readlines()\n",
    "    start = 0\n",
    "    for con in cons:\n",
    "        start = start if start>con['line'] else con['line']\n",
    "        max = 0.0\n",
    "        mline = 0\n",
    "        for num,line in enumerate(lines):\n",
    "            if num>start:\n",
    "                original_results = logregress_model([tf.constant([con['con']]),tf.constant([line])])\n",
    "                if num-start<3 and tf.math.greater(original_results,0.5):\n",
    "                    max=original_results\n",
    "                    mline=num\n",
    "                    break\n",
    "                elif tf.math.greater(original_results,max):\n",
    "                    max=original_results\n",
    "                    mline=num\n",
    "        start = mline\n",
    "        print(str(mline)+': ',max,lines[mline])"
   ]
  },
  {
   "source": [
    "# Saving"
   ],
   "cell_type": "markdown",
   "metadata": {}
  },
  {
   "cell_type": "code",
   "execution_count": null,
   "metadata": {},
   "outputs": [],
   "source": [
    "logregress_model.save('seq_match_bert',overwrite=False,include_optimizer=False)"
   ]
  },
  {
   "source": [
    "# Serving"
   ],
   "cell_type": "markdown",
   "metadata": {}
  },
  {
   "cell_type": "code",
   "execution_count": 151,
   "metadata": {},
   "outputs": [],
   "source": [
    "def seq_match(con,cause):\n",
    "    model = logregress_model.signatures['serving_default']\n",
    "    return model(con_input=tf.constant(con),\n",
    "                cause_input=tf.constant(cause))['classifier']\n"
   ]
  },
  {
   "cell_type": "code",
   "execution_count": 152,
   "metadata": {},
   "outputs": [
    {
     "output_type": "stream",
     "name": "stdout",
     "text": [
      "26:  tf.Tensor([[0.98577327]], shape=(1, 1), dtype=float32)         关于本次交通事故民事赔偿责任应如何承担的问题，本院认为：被告张旭驾驶“鲁HM355Q”轻型非载货专项作业车与受害人魏士玉驾驶的摩托车发生碰撞，造成魏士玉死亡的交通事故，业经邹城市公安局交通警察大队作出交通事故责任认定书，认定受害人魏士玉与被告张旭承担事故的同等责任。原、被告对事故责任认定书均无异议，本院予以确认。在本次交通事故中，魏士玉经抢救无效死亡，原告魏呈坤、魏王氏、王其秀、魏广安、魏丽丽、魏广营系受害人魏士玉的近亲属，具有要求被告赔偿各项经济损失的权利。被告平安财险济宁支公司作为“鲁HM355Q”轻型非载货专项作业车的保险人，亦无免赔情形，依法应当在被保险机动车交强险各分项限额范围内对原告损失先行赔偿，不足部分再按照商业保险合同约定和各自过错责任比例进行赔偿，仍有不足部分再按照《侵权责任法》和《交通事故安全法》的相关规定由侵权责任人赔偿。在本次事故中，受害人魏士玉与被告张旭承担事故同等责任，双方均有过错，应根据双方在本次事故中的过错程度，对超出交通事故强制保险责任限额范围以外的损失，由被告张旭承担50%民事赔偿责任。根据相关法律规定，机动车所有人与使用人不是同一人时，发生交通事故后属于该机动车一方责任的，由保险公司在机动车强制保险责任限额范围内予以赔偿。不足部分，由机动车使用人承担赔偿责任;机动车所有人对损害的发生有过错的，承担相应的赔偿责任。因张旭与被告济宁绿源食品有限公司未到庭参加诉讼，原告未举证证明张旭与被告济宁绿源食品有限公司之间的法律关系，应由侵权人张旭承担民事赔偿责任。被告济宁绿源食品有限公司虽系登记车主，但原告未举证证明在交通事故中有过错，不应承担民事赔偿责任。\n\n27:  tf.Tensor([[0.98574615]], shape=(1, 1), dtype=float32)         关于原告请求赔偿项目及其数额应如何确定的问题，本院认为：1.医疗费：原告向本院提交邹城市人民医院出具的门诊收费票据18张，并以门诊病历、门诊收费清单相佐证，旨在证明抢救魏士玉支出医疗费1，163.08元。经质证，被告平安财险济宁支公司对原告提供证据的真实性无异议。本院认为，被告对原告提供证据的真实性没异议，本院予以认定。根据原告提供的医疗费票据核算，医疗费1，156.1元，予以认定；2.丧葬费：原告主张按照受诉法院所在地上一年度职工月平均工资标准，以六个月总额计算，丧葬费为37，562.5元。经质证，被告平安财险济宁支公司认为，丧葬费应按照山东省在岗职工平均年工资收入69，305元标准计算6个月为34，652.5元。本院认为，根据《最高人民法院<关于审理人身损害赔偿案件适用法律若干问题的解释>》第二十七条之规定，“丧葬费按照受诉法院所在地上一年度职工月平均工资标准，以六个月总额计算。”受诉法院所在地山东省2018年度在岗职工年平均工资为75，125元，原告主张丧葬费符合法律规定，本院予以支持（计算公式：75，125元/年&divide;2=37，562.5元）；3.死亡赔偿金：原告向本院提交邹城市公安局刑事科学技术室出具的《鉴定书》1份及邹城市人民医院出具的《居民死亡医学证明（推断）书》1份和邹城市殡仪馆出具的《火化证明》1份,证明魏士玉在本次事故中死亡。提交原告魏广安和妻子张凤与山东鸿顺房地产开发有限公司签订的《济宁市商品房买卖合同》1份，魏广安、张凤名下位于鸿顺运河新城3号楼01单元6层0601号房的不动产登记证1份，济宁凯亿物业服务有限公司与济宁市任城区人民政府南张街道办事处共同出具《居住证明》1份，邹城市香城镇香杨庄村村民委员会出具的《证明》1份，魏广安和张凤结婚证1份、张凤经营的济宁市任城区泉茂酒水商行营业执照1份。上述证据旨在证明魏士玉自2015年9月份一直跟随儿子魏广安在济宁市鸿顺运河新城3号楼01单元6层0601号居住生活，平时帮助儿媳张凤经营酒水商行，负责送货，其死亡赔偿金应按照城镇居民人均可支配收入标准进行计算；根据受害人魏士玉年龄计算13年，死亡赔偿金514，137元。经质证，被告平安财险济宁支公司对原告提交的鉴定书、火化证明、死亡医学证明真实性无异议；对原告提交的购房合同、营业执照真实性无异议，但认为该证据与本案无关联性；对原告提交济宁市任城区人民政府南张街道办事处出具证明有异议，被告为证明其主张，提交该街道办事处向被告平安财险济宁支公司出具的情况说明，旨在证明该办事处对受害人魏士玉的居住情况不清楚；对原告提交本村村民委员会出具的证明不予认可，被告为证明其主张，提交保险公司在庭前对本村多位村民以及本村支部书记陈述内容摄制的视频资料，旨在证明魏士玉生前在本村居住生活。经质证，原告对被告提供的证据不认可。经审核，本院认为，被告对魏士玉因本次交通事故死亡的事实无异议，本院予以确认。原告提交济宁凯亿物业服务有限公司与济宁市任城区人民政府南张街道办事处共同出具证明没有单位主要负责人签名，不符合证据形式要件，也与被告平安财险济宁支公司提交该街道办事处出具的居住情况说明内容相矛盾，结合本案道路交通事故认定书记载事故发生的地点为邹城市香城镇张桃村村东路口处与该证明记载魏士玉居住地址相悖，本院不予采纳；原告提交的其他证据不能证明魏士玉在城镇连续居住一年以上，且其主要经济收入来源于城镇，原告主张按照山东省2018年度城镇居民人均可支配收入标准计算死亡赔偿金的诉讼主张，不予支持。根据魏士玉生前系邹城市香城镇香杨庄村村民，其死亡赔偿金应当按照山东省上一年度农村居民年平均纯收入16，297元标准计算，死亡赔偿金211，861元，（计算公式：16，297元/年X13年=211，861元）；4.被扶养人生活费：原告提交邹城市香城镇香杨庄村村民委员会出具的证明1份，旨在证明原告魏呈坤系受害人魏士玉之父，于1937年7月13日出生，魏王氏系受害人魏士玉之母，于1933年2月6日出生，两人均达75周岁以上，均需扶养5年。原告主张被扶养人生活费应按农村消费性支出标准11，270元计算，扣除其他扶养义务人魏士秀、魏士兰、魏国、魏士勇应承担的份额后，被扶养人魏呈坤、魏王氏生活费，共计22，540元。经质证，被告平安财险济宁支公司对村委会出具的证明真实性无异议，认为原告应提交被扶养人其他子女的身份情况。同时，本案受害人魏士玉已经年满67周岁不具备扶养能力，且无经济收入，原告不应再主张被扶养人生活费。经审核，本院认为，被告对原告主张被扶养人扶养年限无异议，本院予以认定；根据最高人民法院《关于审理人身损害赔偿案件适用法律若干问题的解释》第十七条第三款之规定，“受害人死亡的，赔偿义务人除应当根据抢救治疗情况赔偿本条第一款规定的相关费用外，还应当赔偿丧葬费、被扶养人生活费、死亡补偿费以及受害人亲属办理丧葬事宜支出的交通费、住宿费和误工损失等其他合理费用。”本案中，被扶养人魏呈坤、魏王氏均达75周岁以上，无固定收入，又无劳动能力，也没有其他生活来源，受害人魏士玉系魏呈坤、魏王氏夫妇之子，对魏呈坤、魏王氏有法定扶养义务，受害人魏士玉在本次事故中死亡，原告请求被告赔偿被扶养人魏呈坤、魏王氏生活费，符合法律规定，本院予以支持；原告主张被扶养人生活费按山东省上一年度农村居民消费性支出标准11，270元计算，符合法律相关规定，本院予以支持；原告魏呈坤、魏王氏的扶养期限为5年，应扣除其他扶养义务人魏士秀、魏士兰、魏国、魏士勇4人应承担的份额，被扶养人魏呈坤、魏王氏生活费，共计22，540元（计算公式：11，270元X5年X2人&divide;5人=22，540元），该被扶养人生活费不再单列判项，应计入死亡赔偿金项目之内。5.处理丧葬事宜的误工费及交通费：原告提交魏广安与内蒙古蒙牛乳业（集团）股份有限公司签订的《劳动合同》一份、魏广安工资信息1份、魏广安工资银行流水明细1份，证明原告魏广安因处理父亲魏士玉丧事向公司请事假，产生误工费1，500元；魏丽丽和魏广营的误工费按照城镇标准108.35元计算1个月，主张处理丧葬事宜的误工费8，091.5元；主张处理丧葬事实人员交通费2，000元未提交相关证据。经质证，被告平安财险济宁支公司对证据真实性无异议，该项费用应包含在丧葬费中，不应单独主张。经审核，本院认为，根据《最高人民法院<关于审理人身损害赔偿案件适用法律若干问题的解释>》第十七条之规定，受害人死亡的，赔偿义务人还应当赔偿受害人亲属办理丧葬事宜支出的误工损失等其他合理费用。结合本案实际情况，本院酌情认定处理丧葬事宜的误工费和交通费为2，000元；6.精神损害抚慰金：原告请求被告赔偿精神损害抚慰金20，000元，主张被告平安财险济宁支公司在交强险责任限额范围内先行赔偿。经质证，被告平安财险济宁支公司认为，原告主张该项数额过高。本院认为，原告亲属魏士玉因交通事故死亡，使其亲属遭受精神上极大痛苦，原告请求被告赔偿精神损害抚慰金的理由，符合法律规定，本院予以支持;赔偿精神损害抚慰金的数额，应根据侵权过错程度、侵权方式、损害后果、侵权人赔偿能力等因素综合分析，结合本案实际情况，确定被告平安财险济宁支公司赔偿原告精神损害抚慰金5，000元为宜，应在交强险限额内优先赔偿。原告请求被告赔偿精神损害抚慰金20，000元过高，超出部分本院不予支持；7、财产损失费：原告提供魏士玉驾驶的燃油助力车报废图片一张，主张财产损失费2，000元。经质证，被告平安财险济宁支公司认为，原告未提供车辆损失具体数额的相关证据，不予认可。经审核，本院认为，原告主张财产损失2，000元，因其未举证证明，本院不予支持。\n\n"
     ]
    }
   ],
   "source": [
    "cons = [{\n",
    "    'con':'本次交通事故民事赔偿责任如何承担',\n",
    "    'line':25,\n",
    "},\n",
    "{\n",
    "    'con':'原告请求赔偿项目及数额应如何确定',\n",
    "    'line':25,\n",
    "}]\n",
    "\n",
    "with open('/home/cao/Programming/baker/data/raw/case2.txt') as f:\n",
    "    lines = f.readlines()\n",
    "    start = 0\n",
    "    for con in cons:\n",
    "        start = start if start>con['line'] else con['line']\n",
    "        max = 0.0\n",
    "        mline = 0\n",
    "        for num,line in enumerate(lines):\n",
    "            if num>start:\n",
    "                original_results = seq_match(con['con'],line)\n",
    "                if num-start<3 and tf.math.greater(original_results,0.5):\n",
    "                    max=original_results\n",
    "                    mline=num\n",
    "                    break\n",
    "                elif tf.math.greater(original_results,max):\n",
    "                    max=original_results\n",
    "                    mline=num\n",
    "        start = mline\n",
    "        print(str(mline)+': ',max,lines[mline])"
   ]
  },
  {
   "cell_type": "code",
   "execution_count": null,
   "metadata": {},
   "outputs": [],
   "source": []
  }
 ]
}